{
  "cells": [
    {
      "cell_type": "markdown",
      "metadata": {
        "id": "view-in-github",
        "colab_type": "text"
      },
      "source": [
        "<a href=\"https://colab.research.google.com/github/Olive1644/Sales-EDA/blob/main/Sales.ipynb\" target=\"_parent\"><img src=\"https://colab.research.google.com/assets/colab-badge.svg\" alt=\"Open In Colab\"/></a>"
      ]
    },
    {
      "cell_type": "code",
      "execution_count": null,
      "metadata": {
        "colab": {
          "base_uri": "https://localhost:8080/",
          "height": 111
        },
        "id": "m6LrORTJ_Wb8",
        "outputId": "849ec76f-e506-458a-a9e8-e6e4d3192d7d"
      },
      "outputs": [
        {
          "output_type": "display_data",
          "data": {
            "text/plain": [
              "<IPython.core.display.HTML object>"
            ],
            "text/html": [
              "\n",
              "     <input type=\"file\" id=\"files-b1241001-f5b9-499f-a08b-3b2077a06496\" name=\"files[]\" multiple disabled\n",
              "        style=\"border:none\" />\n",
              "     <output id=\"result-b1241001-f5b9-499f-a08b-3b2077a06496\">\n",
              "      Upload widget is only available when the cell has been executed in the\n",
              "      current browser session. Please rerun this cell to enable.\n",
              "      </output>\n",
              "      <script>// Copyright 2017 Google LLC\n",
              "//\n",
              "// Licensed under the Apache License, Version 2.0 (the \"License\");\n",
              "// you may not use this file except in compliance with the License.\n",
              "// You may obtain a copy of the License at\n",
              "//\n",
              "//      http://www.apache.org/licenses/LICENSE-2.0\n",
              "//\n",
              "// Unless required by applicable law or agreed to in writing, software\n",
              "// distributed under the License is distributed on an \"AS IS\" BASIS,\n",
              "// WITHOUT WARRANTIES OR CONDITIONS OF ANY KIND, either express or implied.\n",
              "// See the License for the specific language governing permissions and\n",
              "// limitations under the License.\n",
              "\n",
              "/**\n",
              " * @fileoverview Helpers for google.colab Python module.\n",
              " */\n",
              "(function(scope) {\n",
              "function span(text, styleAttributes = {}) {\n",
              "  const element = document.createElement('span');\n",
              "  element.textContent = text;\n",
              "  for (const key of Object.keys(styleAttributes)) {\n",
              "    element.style[key] = styleAttributes[key];\n",
              "  }\n",
              "  return element;\n",
              "}\n",
              "\n",
              "// Max number of bytes which will be uploaded at a time.\n",
              "const MAX_PAYLOAD_SIZE = 100 * 1024;\n",
              "\n",
              "function _uploadFiles(inputId, outputId) {\n",
              "  const steps = uploadFilesStep(inputId, outputId);\n",
              "  const outputElement = document.getElementById(outputId);\n",
              "  // Cache steps on the outputElement to make it available for the next call\n",
              "  // to uploadFilesContinue from Python.\n",
              "  outputElement.steps = steps;\n",
              "\n",
              "  return _uploadFilesContinue(outputId);\n",
              "}\n",
              "\n",
              "// This is roughly an async generator (not supported in the browser yet),\n",
              "// where there are multiple asynchronous steps and the Python side is going\n",
              "// to poll for completion of each step.\n",
              "// This uses a Promise to block the python side on completion of each step,\n",
              "// then passes the result of the previous step as the input to the next step.\n",
              "function _uploadFilesContinue(outputId) {\n",
              "  const outputElement = document.getElementById(outputId);\n",
              "  const steps = outputElement.steps;\n",
              "\n",
              "  const next = steps.next(outputElement.lastPromiseValue);\n",
              "  return Promise.resolve(next.value.promise).then((value) => {\n",
              "    // Cache the last promise value to make it available to the next\n",
              "    // step of the generator.\n",
              "    outputElement.lastPromiseValue = value;\n",
              "    return next.value.response;\n",
              "  });\n",
              "}\n",
              "\n",
              "/**\n",
              " * Generator function which is called between each async step of the upload\n",
              " * process.\n",
              " * @param {string} inputId Element ID of the input file picker element.\n",
              " * @param {string} outputId Element ID of the output display.\n",
              " * @return {!Iterable<!Object>} Iterable of next steps.\n",
              " */\n",
              "function* uploadFilesStep(inputId, outputId) {\n",
              "  const inputElement = document.getElementById(inputId);\n",
              "  inputElement.disabled = false;\n",
              "\n",
              "  const outputElement = document.getElementById(outputId);\n",
              "  outputElement.innerHTML = '';\n",
              "\n",
              "  const pickedPromise = new Promise((resolve) => {\n",
              "    inputElement.addEventListener('change', (e) => {\n",
              "      resolve(e.target.files);\n",
              "    });\n",
              "  });\n",
              "\n",
              "  const cancel = document.createElement('button');\n",
              "  inputElement.parentElement.appendChild(cancel);\n",
              "  cancel.textContent = 'Cancel upload';\n",
              "  const cancelPromise = new Promise((resolve) => {\n",
              "    cancel.onclick = () => {\n",
              "      resolve(null);\n",
              "    };\n",
              "  });\n",
              "\n",
              "  // Wait for the user to pick the files.\n",
              "  const files = yield {\n",
              "    promise: Promise.race([pickedPromise, cancelPromise]),\n",
              "    response: {\n",
              "      action: 'starting',\n",
              "    }\n",
              "  };\n",
              "\n",
              "  cancel.remove();\n",
              "\n",
              "  // Disable the input element since further picks are not allowed.\n",
              "  inputElement.disabled = true;\n",
              "\n",
              "  if (!files) {\n",
              "    return {\n",
              "      response: {\n",
              "        action: 'complete',\n",
              "      }\n",
              "    };\n",
              "  }\n",
              "\n",
              "  for (const file of files) {\n",
              "    const li = document.createElement('li');\n",
              "    li.append(span(file.name, {fontWeight: 'bold'}));\n",
              "    li.append(span(\n",
              "        `(${file.type || 'n/a'}) - ${file.size} bytes, ` +\n",
              "        `last modified: ${\n",
              "            file.lastModifiedDate ? file.lastModifiedDate.toLocaleDateString() :\n",
              "                                    'n/a'} - `));\n",
              "    const percent = span('0% done');\n",
              "    li.appendChild(percent);\n",
              "\n",
              "    outputElement.appendChild(li);\n",
              "\n",
              "    const fileDataPromise = new Promise((resolve) => {\n",
              "      const reader = new FileReader();\n",
              "      reader.onload = (e) => {\n",
              "        resolve(e.target.result);\n",
              "      };\n",
              "      reader.readAsArrayBuffer(file);\n",
              "    });\n",
              "    // Wait for the data to be ready.\n",
              "    let fileData = yield {\n",
              "      promise: fileDataPromise,\n",
              "      response: {\n",
              "        action: 'continue',\n",
              "      }\n",
              "    };\n",
              "\n",
              "    // Use a chunked sending to avoid message size limits. See b/62115660.\n",
              "    let position = 0;\n",
              "    do {\n",
              "      const length = Math.min(fileData.byteLength - position, MAX_PAYLOAD_SIZE);\n",
              "      const chunk = new Uint8Array(fileData, position, length);\n",
              "      position += length;\n",
              "\n",
              "      const base64 = btoa(String.fromCharCode.apply(null, chunk));\n",
              "      yield {\n",
              "        response: {\n",
              "          action: 'append',\n",
              "          file: file.name,\n",
              "          data: base64,\n",
              "        },\n",
              "      };\n",
              "\n",
              "      let percentDone = fileData.byteLength === 0 ?\n",
              "          100 :\n",
              "          Math.round((position / fileData.byteLength) * 100);\n",
              "      percent.textContent = `${percentDone}% done`;\n",
              "\n",
              "    } while (position < fileData.byteLength);\n",
              "  }\n",
              "\n",
              "  // All done.\n",
              "  yield {\n",
              "    response: {\n",
              "      action: 'complete',\n",
              "    }\n",
              "  };\n",
              "}\n",
              "\n",
              "scope.google = scope.google || {};\n",
              "scope.google.colab = scope.google.colab || {};\n",
              "scope.google.colab._files = {\n",
              "  _uploadFiles,\n",
              "  _uploadFilesContinue,\n",
              "};\n",
              "})(self);\n",
              "</script> "
            ]
          },
          "metadata": {}
        },
        {
          "output_type": "stream",
          "name": "stdout",
          "text": [
            "Saving store_sales.csv to store_sales (1).csv\n"
          ]
        }
      ],
      "source": [
        "#1 Load datasets into DataFrame\n",
        "from google.colab import files\n",
        "uploaded = files.upload()"
      ]
    },
    {
      "cell_type": "code",
      "execution_count": null,
      "metadata": {
        "id": "f0bqeFICCUXm"
      },
      "outputs": [],
      "source": [
        "import pandas as pd"
      ]
    },
    {
      "cell_type": "code",
      "execution_count": null,
      "metadata": {
        "id": "3YHSDrJZFU_Y"
      },
      "outputs": [],
      "source": [
        "import io\n",
        "store_sales=pd.read_csv(io.BytesIO(uploaded['store_sales (1).csv']))"
      ]
    },
    {
      "cell_type": "code",
      "execution_count": null,
      "metadata": {
        "colab": {
          "base_uri": "https://localhost:8080/",
          "height": 295
        },
        "id": "2WD8IiYxG4oW",
        "outputId": "be95fdcc-842f-4f1b-f1c4-7c03dba3128e"
      },
      "outputs": [
        {
          "output_type": "execute_result",
          "data": {
            "text/plain": [
              "   order_id  order_date customer    state        product       category  \\\n",
              "0      1001  2024-01-01    Emeka     Kano       Rice 5kg      Groceries   \n",
              "1      1002  2024-01-03    Aisha      Edo  Phone Charger    Electronics   \n",
              "2      1003  2024-01-05    Aisha     Ogun       Soap Bar  Personal Care   \n",
              "3      1004  2024-01-06    Chidi     Kano     Bread Loaf         Bakery   \n",
              "4      1005  2024-01-07     Sola  Anambra     Bread Loaf         Bakery   \n",
              "\n",
              "   unit_price  quantity  discount payment_method  subtotal  discount_amount  \\\n",
              "0        8500         3       0.0           Cash     25500              0.0   \n",
              "1        3500         4       0.0       Transfer     14000              0.0   \n",
              "2         700         4       0.0           Cash      2800              0.0   \n",
              "3        1000         3       0.0       Transfer      3000              0.0   \n",
              "4        1000         5       0.0            POS      5000              0.0   \n",
              "\n",
              "     total  \n",
              "0  25500.0  \n",
              "1  14000.0  \n",
              "2   2800.0  \n",
              "3   3000.0  \n",
              "4   5000.0  "
            ],
            "text/html": [
              "\n",
              "  <div id=\"df-a4853bfe-b70a-42ac-986b-eee645e3cccc\" class=\"colab-df-container\">\n",
              "    <div>\n",
              "<style scoped>\n",
              "    .dataframe tbody tr th:only-of-type {\n",
              "        vertical-align: middle;\n",
              "    }\n",
              "\n",
              "    .dataframe tbody tr th {\n",
              "        vertical-align: top;\n",
              "    }\n",
              "\n",
              "    .dataframe thead th {\n",
              "        text-align: right;\n",
              "    }\n",
              "</style>\n",
              "<table border=\"1\" class=\"dataframe\">\n",
              "  <thead>\n",
              "    <tr style=\"text-align: right;\">\n",
              "      <th></th>\n",
              "      <th>order_id</th>\n",
              "      <th>order_date</th>\n",
              "      <th>customer</th>\n",
              "      <th>state</th>\n",
              "      <th>product</th>\n",
              "      <th>category</th>\n",
              "      <th>unit_price</th>\n",
              "      <th>quantity</th>\n",
              "      <th>discount</th>\n",
              "      <th>payment_method</th>\n",
              "      <th>subtotal</th>\n",
              "      <th>discount_amount</th>\n",
              "      <th>total</th>\n",
              "    </tr>\n",
              "  </thead>\n",
              "  <tbody>\n",
              "    <tr>\n",
              "      <th>0</th>\n",
              "      <td>1001</td>\n",
              "      <td>2024-01-01</td>\n",
              "      <td>Emeka</td>\n",
              "      <td>Kano</td>\n",
              "      <td>Rice 5kg</td>\n",
              "      <td>Groceries</td>\n",
              "      <td>8500</td>\n",
              "      <td>3</td>\n",
              "      <td>0.0</td>\n",
              "      <td>Cash</td>\n",
              "      <td>25500</td>\n",
              "      <td>0.0</td>\n",
              "      <td>25500.0</td>\n",
              "    </tr>\n",
              "    <tr>\n",
              "      <th>1</th>\n",
              "      <td>1002</td>\n",
              "      <td>2024-01-03</td>\n",
              "      <td>Aisha</td>\n",
              "      <td>Edo</td>\n",
              "      <td>Phone Charger</td>\n",
              "      <td>Electronics</td>\n",
              "      <td>3500</td>\n",
              "      <td>4</td>\n",
              "      <td>0.0</td>\n",
              "      <td>Transfer</td>\n",
              "      <td>14000</td>\n",
              "      <td>0.0</td>\n",
              "      <td>14000.0</td>\n",
              "    </tr>\n",
              "    <tr>\n",
              "      <th>2</th>\n",
              "      <td>1003</td>\n",
              "      <td>2024-01-05</td>\n",
              "      <td>Aisha</td>\n",
              "      <td>Ogun</td>\n",
              "      <td>Soap Bar</td>\n",
              "      <td>Personal Care</td>\n",
              "      <td>700</td>\n",
              "      <td>4</td>\n",
              "      <td>0.0</td>\n",
              "      <td>Cash</td>\n",
              "      <td>2800</td>\n",
              "      <td>0.0</td>\n",
              "      <td>2800.0</td>\n",
              "    </tr>\n",
              "    <tr>\n",
              "      <th>3</th>\n",
              "      <td>1004</td>\n",
              "      <td>2024-01-06</td>\n",
              "      <td>Chidi</td>\n",
              "      <td>Kano</td>\n",
              "      <td>Bread Loaf</td>\n",
              "      <td>Bakery</td>\n",
              "      <td>1000</td>\n",
              "      <td>3</td>\n",
              "      <td>0.0</td>\n",
              "      <td>Transfer</td>\n",
              "      <td>3000</td>\n",
              "      <td>0.0</td>\n",
              "      <td>3000.0</td>\n",
              "    </tr>\n",
              "    <tr>\n",
              "      <th>4</th>\n",
              "      <td>1005</td>\n",
              "      <td>2024-01-07</td>\n",
              "      <td>Sola</td>\n",
              "      <td>Anambra</td>\n",
              "      <td>Bread Loaf</td>\n",
              "      <td>Bakery</td>\n",
              "      <td>1000</td>\n",
              "      <td>5</td>\n",
              "      <td>0.0</td>\n",
              "      <td>POS</td>\n",
              "      <td>5000</td>\n",
              "      <td>0.0</td>\n",
              "      <td>5000.0</td>\n",
              "    </tr>\n",
              "  </tbody>\n",
              "</table>\n",
              "</div>\n",
              "    <div class=\"colab-df-buttons\">\n",
              "\n",
              "  <div class=\"colab-df-container\">\n",
              "    <button class=\"colab-df-convert\" onclick=\"convertToInteractive('df-a4853bfe-b70a-42ac-986b-eee645e3cccc')\"\n",
              "            title=\"Convert this dataframe to an interactive table.\"\n",
              "            style=\"display:none;\">\n",
              "\n",
              "  <svg xmlns=\"http://www.w3.org/2000/svg\" height=\"24px\" viewBox=\"0 -960 960 960\">\n",
              "    <path d=\"M120-120v-720h720v720H120Zm60-500h600v-160H180v160Zm220 220h160v-160H400v160Zm0 220h160v-160H400v160ZM180-400h160v-160H180v160Zm440 0h160v-160H620v160ZM180-180h160v-160H180v160Zm440 0h160v-160H620v160Z\"/>\n",
              "  </svg>\n",
              "    </button>\n",
              "\n",
              "  <style>\n",
              "    .colab-df-container {\n",
              "      display:flex;\n",
              "      gap: 12px;\n",
              "    }\n",
              "\n",
              "    .colab-df-convert {\n",
              "      background-color: #E8F0FE;\n",
              "      border: none;\n",
              "      border-radius: 50%;\n",
              "      cursor: pointer;\n",
              "      display: none;\n",
              "      fill: #1967D2;\n",
              "      height: 32px;\n",
              "      padding: 0 0 0 0;\n",
              "      width: 32px;\n",
              "    }\n",
              "\n",
              "    .colab-df-convert:hover {\n",
              "      background-color: #E2EBFA;\n",
              "      box-shadow: 0px 1px 2px rgba(60, 64, 67, 0.3), 0px 1px 3px 1px rgba(60, 64, 67, 0.15);\n",
              "      fill: #174EA6;\n",
              "    }\n",
              "\n",
              "    .colab-df-buttons div {\n",
              "      margin-bottom: 4px;\n",
              "    }\n",
              "\n",
              "    [theme=dark] .colab-df-convert {\n",
              "      background-color: #3B4455;\n",
              "      fill: #D2E3FC;\n",
              "    }\n",
              "\n",
              "    [theme=dark] .colab-df-convert:hover {\n",
              "      background-color: #434B5C;\n",
              "      box-shadow: 0px 1px 3px 1px rgba(0, 0, 0, 0.15);\n",
              "      filter: drop-shadow(0px 1px 2px rgba(0, 0, 0, 0.3));\n",
              "      fill: #FFFFFF;\n",
              "    }\n",
              "  </style>\n",
              "\n",
              "    <script>\n",
              "      const buttonEl =\n",
              "        document.querySelector('#df-a4853bfe-b70a-42ac-986b-eee645e3cccc button.colab-df-convert');\n",
              "      buttonEl.style.display =\n",
              "        google.colab.kernel.accessAllowed ? 'block' : 'none';\n",
              "\n",
              "      async function convertToInteractive(key) {\n",
              "        const element = document.querySelector('#df-a4853bfe-b70a-42ac-986b-eee645e3cccc');\n",
              "        const dataTable =\n",
              "          await google.colab.kernel.invokeFunction('convertToInteractive',\n",
              "                                                    [key], {});\n",
              "        if (!dataTable) return;\n",
              "\n",
              "        const docLinkHtml = 'Like what you see? Visit the ' +\n",
              "          '<a target=\"_blank\" href=https://colab.research.google.com/notebooks/data_table.ipynb>data table notebook</a>'\n",
              "          + ' to learn more about interactive tables.';\n",
              "        element.innerHTML = '';\n",
              "        dataTable['output_type'] = 'display_data';\n",
              "        await google.colab.output.renderOutput(dataTable, element);\n",
              "        const docLink = document.createElement('div');\n",
              "        docLink.innerHTML = docLinkHtml;\n",
              "        element.appendChild(docLink);\n",
              "      }\n",
              "    </script>\n",
              "  </div>\n",
              "\n",
              "\n",
              "    <div id=\"df-4846ed49-b589-4b45-bc0e-c5172deee5df\">\n",
              "      <button class=\"colab-df-quickchart\" onclick=\"quickchart('df-4846ed49-b589-4b45-bc0e-c5172deee5df')\"\n",
              "                title=\"Suggest charts\"\n",
              "                style=\"display:none;\">\n",
              "\n",
              "<svg xmlns=\"http://www.w3.org/2000/svg\" height=\"24px\"viewBox=\"0 0 24 24\"\n",
              "     width=\"24px\">\n",
              "    <g>\n",
              "        <path d=\"M19 3H5c-1.1 0-2 .9-2 2v14c0 1.1.9 2 2 2h14c1.1 0 2-.9 2-2V5c0-1.1-.9-2-2-2zM9 17H7v-7h2v7zm4 0h-2V7h2v10zm4 0h-2v-4h2v4z\"/>\n",
              "    </g>\n",
              "</svg>\n",
              "      </button>\n",
              "\n",
              "<style>\n",
              "  .colab-df-quickchart {\n",
              "      --bg-color: #E8F0FE;\n",
              "      --fill-color: #1967D2;\n",
              "      --hover-bg-color: #E2EBFA;\n",
              "      --hover-fill-color: #174EA6;\n",
              "      --disabled-fill-color: #AAA;\n",
              "      --disabled-bg-color: #DDD;\n",
              "  }\n",
              "\n",
              "  [theme=dark] .colab-df-quickchart {\n",
              "      --bg-color: #3B4455;\n",
              "      --fill-color: #D2E3FC;\n",
              "      --hover-bg-color: #434B5C;\n",
              "      --hover-fill-color: #FFFFFF;\n",
              "      --disabled-bg-color: #3B4455;\n",
              "      --disabled-fill-color: #666;\n",
              "  }\n",
              "\n",
              "  .colab-df-quickchart {\n",
              "    background-color: var(--bg-color);\n",
              "    border: none;\n",
              "    border-radius: 50%;\n",
              "    cursor: pointer;\n",
              "    display: none;\n",
              "    fill: var(--fill-color);\n",
              "    height: 32px;\n",
              "    padding: 0;\n",
              "    width: 32px;\n",
              "  }\n",
              "\n",
              "  .colab-df-quickchart:hover {\n",
              "    background-color: var(--hover-bg-color);\n",
              "    box-shadow: 0 1px 2px rgba(60, 64, 67, 0.3), 0 1px 3px 1px rgba(60, 64, 67, 0.15);\n",
              "    fill: var(--button-hover-fill-color);\n",
              "  }\n",
              "\n",
              "  .colab-df-quickchart-complete:disabled,\n",
              "  .colab-df-quickchart-complete:disabled:hover {\n",
              "    background-color: var(--disabled-bg-color);\n",
              "    fill: var(--disabled-fill-color);\n",
              "    box-shadow: none;\n",
              "  }\n",
              "\n",
              "  .colab-df-spinner {\n",
              "    border: 2px solid var(--fill-color);\n",
              "    border-color: transparent;\n",
              "    border-bottom-color: var(--fill-color);\n",
              "    animation:\n",
              "      spin 1s steps(1) infinite;\n",
              "  }\n",
              "\n",
              "  @keyframes spin {\n",
              "    0% {\n",
              "      border-color: transparent;\n",
              "      border-bottom-color: var(--fill-color);\n",
              "      border-left-color: var(--fill-color);\n",
              "    }\n",
              "    20% {\n",
              "      border-color: transparent;\n",
              "      border-left-color: var(--fill-color);\n",
              "      border-top-color: var(--fill-color);\n",
              "    }\n",
              "    30% {\n",
              "      border-color: transparent;\n",
              "      border-left-color: var(--fill-color);\n",
              "      border-top-color: var(--fill-color);\n",
              "      border-right-color: var(--fill-color);\n",
              "    }\n",
              "    40% {\n",
              "      border-color: transparent;\n",
              "      border-right-color: var(--fill-color);\n",
              "      border-top-color: var(--fill-color);\n",
              "    }\n",
              "    60% {\n",
              "      border-color: transparent;\n",
              "      border-right-color: var(--fill-color);\n",
              "    }\n",
              "    80% {\n",
              "      border-color: transparent;\n",
              "      border-right-color: var(--fill-color);\n",
              "      border-bottom-color: var(--fill-color);\n",
              "    }\n",
              "    90% {\n",
              "      border-color: transparent;\n",
              "      border-bottom-color: var(--fill-color);\n",
              "    }\n",
              "  }\n",
              "</style>\n",
              "\n",
              "      <script>\n",
              "        async function quickchart(key) {\n",
              "          const quickchartButtonEl =\n",
              "            document.querySelector('#' + key + ' button');\n",
              "          quickchartButtonEl.disabled = true;  // To prevent multiple clicks.\n",
              "          quickchartButtonEl.classList.add('colab-df-spinner');\n",
              "          try {\n",
              "            const charts = await google.colab.kernel.invokeFunction(\n",
              "                'suggestCharts', [key], {});\n",
              "          } catch (error) {\n",
              "            console.error('Error during call to suggestCharts:', error);\n",
              "          }\n",
              "          quickchartButtonEl.classList.remove('colab-df-spinner');\n",
              "          quickchartButtonEl.classList.add('colab-df-quickchart-complete');\n",
              "        }\n",
              "        (() => {\n",
              "          let quickchartButtonEl =\n",
              "            document.querySelector('#df-4846ed49-b589-4b45-bc0e-c5172deee5df button');\n",
              "          quickchartButtonEl.style.display =\n",
              "            google.colab.kernel.accessAllowed ? 'block' : 'none';\n",
              "        })();\n",
              "      </script>\n",
              "    </div>\n",
              "\n",
              "    </div>\n",
              "  </div>\n"
            ],
            "application/vnd.google.colaboratory.intrinsic+json": {
              "type": "dataframe",
              "variable_name": "store_sales",
              "summary": "{\n  \"name\": \"store_sales\",\n  \"rows\": 120,\n  \"fields\": [\n    {\n      \"column\": \"order_id\",\n      \"properties\": {\n        \"dtype\": \"number\",\n        \"std\": 34,\n        \"min\": 1001,\n        \"max\": 1120,\n        \"num_unique_values\": 120,\n        \"samples\": [\n          1045,\n          1048,\n          1005\n        ],\n        \"semantic_type\": \"\",\n        \"description\": \"\"\n      }\n    },\n    {\n      \"column\": \"order_date\",\n      \"properties\": {\n        \"dtype\": \"object\",\n        \"num_unique_values\": 120,\n        \"samples\": [\n          \"2024-03-14\",\n          \"2024-03-18\",\n          \"2024-01-07\"\n        ],\n        \"semantic_type\": \"\",\n        \"description\": \"\"\n      }\n    },\n    {\n      \"column\": \"customer\",\n      \"properties\": {\n        \"dtype\": \"category\",\n        \"num_unique_values\": 10,\n        \"samples\": [\n          \"Bola\",\n          \"Aisha\",\n          \"Fatima\"\n        ],\n        \"semantic_type\": \"\",\n        \"description\": \"\"\n      }\n    },\n    {\n      \"column\": \"state\",\n      \"properties\": {\n        \"dtype\": \"category\",\n        \"num_unique_values\": 10,\n        \"samples\": [\n          \"Kaduna\",\n          \"Edo\",\n          \"Oyo\"\n        ],\n        \"semantic_type\": \"\",\n        \"description\": \"\"\n      }\n    },\n    {\n      \"column\": \"product\",\n      \"properties\": {\n        \"dtype\": \"category\",\n        \"num_unique_values\": 10,\n        \"samples\": [\n          \"Beans 2kg\",\n          \"Phone Charger\",\n          \"Yam Tubers\"\n        ],\n        \"semantic_type\": \"\",\n        \"description\": \"\"\n      }\n    },\n    {\n      \"column\": \"category\",\n      \"properties\": {\n        \"dtype\": \"category\",\n        \"num_unique_values\": 6,\n        \"samples\": [\n          \"Groceries\",\n          \"Electronics\",\n          \"Dairy\"\n        ],\n        \"semantic_type\": \"\",\n        \"description\": \"\"\n      }\n    },\n    {\n      \"column\": \"unit_price\",\n      \"properties\": {\n        \"dtype\": \"number\",\n        \"std\": 2477,\n        \"min\": 400,\n        \"max\": 8500,\n        \"num_unique_values\": 9,\n        \"samples\": [\n          400,\n          3500,\n          2000\n        ],\n        \"semantic_type\": \"\",\n        \"description\": \"\"\n      }\n    },\n    {\n      \"column\": \"quantity\",\n      \"properties\": {\n        \"dtype\": \"number\",\n        \"std\": 1,\n        \"min\": 1,\n        \"max\": 5,\n        \"num_unique_values\": 5,\n        \"samples\": [\n          4,\n          2,\n          5\n        ],\n        \"semantic_type\": \"\",\n        \"description\": \"\"\n      }\n    },\n    {\n      \"column\": \"discount\",\n      \"properties\": {\n        \"dtype\": \"number\",\n        \"std\": 0.0346020797289502,\n        \"min\": 0.0,\n        \"max\": 0.1,\n        \"num_unique_values\": 3,\n        \"samples\": [\n          0.0,\n          0.1,\n          0.05\n        ],\n        \"semantic_type\": \"\",\n        \"description\": \"\"\n      }\n    },\n    {\n      \"column\": \"payment_method\",\n      \"properties\": {\n        \"dtype\": \"category\",\n        \"num_unique_values\": 3,\n        \"samples\": [\n          \"Cash\",\n          \"Transfer\",\n          \"POS\"\n        ],\n        \"semantic_type\": \"\",\n        \"description\": \"\"\n      }\n    },\n    {\n      \"column\": \"subtotal\",\n      \"properties\": {\n        \"dtype\": \"number\",\n        \"std\": 8953,\n        \"min\": 400,\n        \"max\": 42500,\n        \"num_unique_values\": 31,\n        \"samples\": [\n          17000,\n          12000,\n          1400\n        ],\n        \"semantic_type\": \"\",\n        \"description\": \"\"\n      }\n    },\n    {\n      \"column\": \"discount_amount\",\n      \"properties\": {\n        \"dtype\": \"number\",\n        \"std\": 302.41825295422905,\n        \"min\": 0.0,\n        \"max\": 1700.0,\n        \"num_unique_values\": 28,\n        \"samples\": [\n          1400.0,\n          240.0,\n          140.0\n        ],\n        \"semantic_type\": \"\",\n        \"description\": \"\"\n      }\n    },\n    {\n      \"column\": \"total\",\n      \"properties\": {\n        \"dtype\": \"number\",\n        \"std\": 8924.711307698995,\n        \"min\": 400.0,\n        \"max\": 42500.0,\n        \"num_unique_values\": 56,\n        \"samples\": [\n          25500.0,\n          18000.0,\n          3150.0\n        ],\n        \"semantic_type\": \"\",\n        \"description\": \"\"\n      }\n    }\n  ]\n}"
            }
          },
          "metadata": {},
          "execution_count": 4
        }
      ],
      "source": [
        "\n",
        "#2 Display first 5 rows\n",
        "store_sales.head(5)"
      ]
    },
    {
      "cell_type": "code",
      "source": [
        "# Number of rows and columns\n",
        "rows, cols = store_sales.shape\n",
        "print(\"Rows:\", rows)\n",
        "print(\"Columns:\", cols)"
      ],
      "metadata": {
        "colab": {
          "base_uri": "https://localhost:8080/"
        },
        "id": "HCpYCQAC7dkm",
        "outputId": "fdbcd825-8ba4-45ac-f1d3-a8124c2dfff5"
      },
      "execution_count": null,
      "outputs": [
        {
          "output_type": "stream",
          "name": "stdout",
          "text": [
            "Rows: 120\n",
            "Columns: 18\n"
          ]
        }
      ]
    },
    {
      "cell_type": "code",
      "source": [
        "# Column names and data types\n",
        "store_sales.info()"
      ],
      "metadata": {
        "colab": {
          "base_uri": "https://localhost:8080/"
        },
        "id": "q0ePA9O27mN6",
        "outputId": "d3a68759-6622-4be3-f85e-be5e1da7aaf8"
      },
      "execution_count": null,
      "outputs": [
        {
          "output_type": "stream",
          "name": "stdout",
          "text": [
            "<class 'pandas.core.frame.DataFrame'>\n",
            "RangeIndex: 120 entries, 0 to 119\n",
            "Data columns (total 18 columns):\n",
            " #   Column           Non-Null Count  Dtype         \n",
            "---  ------           --------------  -----         \n",
            " 0   order_id         120 non-null    int64         \n",
            " 1   order_date       120 non-null    object        \n",
            " 2   customer         120 non-null    object        \n",
            " 3   state            120 non-null    object        \n",
            " 4   product          120 non-null    object        \n",
            " 5   category         120 non-null    object        \n",
            " 6   unit_price       120 non-null    int64         \n",
            " 7   quantity         120 non-null    int64         \n",
            " 8   discount         120 non-null    float64       \n",
            " 9   payment_method   120 non-null    object        \n",
            " 10  subtotal         120 non-null    int64         \n",
            " 11  discount_amount  120 non-null    float64       \n",
            " 12  total            120 non-null    float64       \n",
            " 13  vat_7_5          120 non-null    float64       \n",
            " 14  grand_total      120 non-null    float64       \n",
            " 15  date             120 non-null    datetime64[ns]\n",
            " 16  month            120 non-null    object        \n",
            " 17  month_num        120 non-null    int32         \n",
            "dtypes: datetime64[ns](1), float64(5), int32(1), int64(4), object(7)\n",
            "memory usage: 16.5+ KB\n",
            "order_id                    int64\n",
            "order_date                 object\n",
            "customer                   object\n",
            "state                      object\n",
            "product                    object\n",
            "category                   object\n",
            "unit_price                  int64\n",
            "quantity                    int64\n",
            "discount                  float64\n",
            "payment_method             object\n",
            "subtotal                    int64\n",
            "discount_amount           float64\n",
            "total                     float64\n",
            "vat_7_5                   float64\n",
            "grand_total               float64\n",
            "date               datetime64[ns]\n",
            "month                      object\n",
            "month_num                   int32\n",
            "dtype: object\n"
          ]
        }
      ]
    },
    {
      "cell_type": "code",
      "source": [
        "\n",
        "#Column data types\n",
        "print(store_sales.dtypes)"
      ],
      "metadata": {
        "colab": {
          "base_uri": "https://localhost:8080/"
        },
        "id": "5fI8iJ3J789i",
        "outputId": "fec5db5e-3fd6-45f0-d4a1-09fd0c15bdaf"
      },
      "execution_count": null,
      "outputs": [
        {
          "output_type": "stream",
          "name": "stdout",
          "text": [
            "order_id                    int64\n",
            "order_date                 object\n",
            "customer                   object\n",
            "state                      object\n",
            "product                    object\n",
            "category                   object\n",
            "unit_price                  int64\n",
            "quantity                    int64\n",
            "discount                  float64\n",
            "payment_method             object\n",
            "subtotal                    int64\n",
            "discount_amount           float64\n",
            "total                     float64\n",
            "vat_7_5                   float64\n",
            "grand_total               float64\n",
            "date               datetime64[ns]\n",
            "month                      object\n",
            "month_num                   int32\n",
            "dtype: object\n"
          ]
        }
      ]
    },
    {
      "cell_type": "code",
      "execution_count": null,
      "metadata": {
        "colab": {
          "base_uri": "https://localhost:8080/"
        },
        "id": "Wk9H_0U-I0-C",
        "outputId": "9e20e6eb-2540-48c0-e638-3b1e2fc1ec44"
      },
      "outputs": [
        {
          "output_type": "stream",
          "name": "stdout",
          "text": [
            "order_id           0\n",
            "order_date         0\n",
            "customer           0\n",
            "state              0\n",
            "product            0\n",
            "category           0\n",
            "unit_price         0\n",
            "quantity           0\n",
            "discount           0\n",
            "payment_method     0\n",
            "subtotal           0\n",
            "discount_amount    0\n",
            "total              0\n",
            "vat_7_5            0\n",
            "grand_total        0\n",
            "date               0\n",
            "month              0\n",
            "month_num          0\n",
            "dtype: int64\n"
          ]
        }
      ],
      "source": [
        "\n",
        "#Check for missing values\n",
        "print(store_sales.isna().sum())"
      ]
    },
    {
      "cell_type": "code",
      "execution_count": null,
      "metadata": {
        "colab": {
          "base_uri": "https://localhost:8080/"
        },
        "id": "sss2MmJ1JqqO",
        "outputId": "896f3ba0-6e8e-4588-d7b8-61c5252148ae"
      },
      "outputs": [
        {
          "output_type": "stream",
          "name": "stdout",
          "text": [
            "0      January\n",
            "1      January\n",
            "2      January\n",
            "3      January\n",
            "4      January\n",
            "        ...   \n",
            "115       July\n",
            "116       July\n",
            "117       July\n",
            "118       July\n",
            "119       July\n",
            "Name: month, Length: 120, dtype: object\n"
          ]
        }
      ],
      "source": [
        "#Part2-Data Creation and Transformation\n",
        "\n",
        "#4 Create new column-vat_7_5\n",
        "store_sales['vat_7_5'] = store_sales['total']*0.075\n",
        "\n",
        "#5 Create new column-grand_total\n",
        "store_sales['grand_total'] = store_sales['total'] + store_sales['vat_7_5']\n",
        "\n",
        "#6 Create column month\n",
        "   #Convert to datetime type\n",
        "store_sales[\"date\"] = pd.to_datetime(store_sales[\"order_date\"])\n",
        "\n",
        "   #Convert to month name\n",
        "store_sales[\"month\"] = store_sales[\"date\"].dt.month_name()\n",
        "\n",
        "   #Print month name\n",
        "print(store_sales[\"month\"])\n",
        "\n",
        "#7 Convert all columns to upper case in product\n",
        "store_sales[\"product\"] = store_sales[\"product\"].str.upper()\n",
        "\n",
        "#8 Replace POS in Payment_method column with Card(POS)\n",
        "store_sales[\"payment_method\"]= store_sales[\"payment_method\"].replace(\"POS\", \"Card(POS)\")"
      ]
    },
    {
      "cell_type": "code",
      "execution_count": null,
      "metadata": {
        "colab": {
          "base_uri": "https://localhost:8080/"
        },
        "id": "jwQXUgFCZh7R",
        "outputId": "771ec67a-b9cf-410a-c384-119bc046d1a5"
      },
      "outputs": [
        {
          "output_type": "stream",
          "name": "stdout",
          "text": [
            "  customer           product    total\n",
            "0    Emeka          RICE 5KG  25500.0\n",
            "1    Aisha     PHONE CHARGER  14000.0\n",
            "2    Aisha          SOAP BAR   2800.0\n",
            "3    Chidi        BREAD LOAF   3000.0\n",
            "4     Sola        BREAD LOAF   5000.0\n",
            "5   Zainab  FLASH DRIVE 32GB  18000.0\n",
            "6   Fatima          RICE 5KG   8500.0\n",
            "7   Zainab          SOAP BAR   2800.0\n",
            "8     Kemi        YAM TUBERS   6000.0\n",
            "9     Sola          RICE 5KG  34000.0\n"
          ]
        }
      ],
      "source": [
        "#Part3- Selection & LOOPS\n",
        "\n",
        "#9 select first 10 rows of customer, product and total column\n",
        "print(store_sales.iloc[0:10, [2,4,12]])"
      ]
    },
    {
      "cell_type": "code",
      "execution_count": null,
      "metadata": {
        "colab": {
          "base_uri": "https://localhost:8080/"
        },
        "id": "lUuBHb7js1Wl",
        "outputId": "d98d33dd-fd79-4ad5-8164-a8940485c9c8"
      },
      "outputs": [
        {
          "output_type": "stream",
          "name": "stdout",
          "text": [
            "Emeka\n",
            "Aisha\n",
            "Aisha\n",
            "Chidi\n",
            "Sola\n"
          ]
        }
      ],
      "source": [
        "#10 print first 5 rows of customer column using for loop\n",
        "\n",
        "for customer in store_sales[\"customer\"].head():\n",
        "    print(customer)"
      ]
    },
    {
      "cell_type": "code",
      "execution_count": null,
      "metadata": {
        "colab": {
          "base_uri": "https://localhost:8080/"
        },
        "id": "pq-kFHn0tNQ6",
        "outputId": "24f98164-1644-4d00-998a-79c375fa44a2"
      },
      "outputs": [
        {
          "output_type": "stream",
          "name": "stdout",
          "text": [
            "RICE 5KG\n",
            "PHONE CHARGER\n",
            "SOAP BAR\n",
            "BREAD LOAF\n",
            "BREAD LOAF\n"
          ]
        }
      ],
      "source": [
        "#11 print first 5 rows of product column using while loop\n",
        "product=store_sales[\"product\"]\n",
        "i=0\n",
        "while i<5 and i<len(product):\n",
        "      print(product[i])\n",
        "      i += 1"
      ]
    },
    {
      "cell_type": "code",
      "source": [
        "#SORTING,  GROUPING AND AGGREGATION\n",
        "#12 Sort the dataset by total in descending order and display top 10 biggest order\n",
        "\n",
        "Total_desc=store_sales['total'].sort_values(ascending = False)\n",
        "print(Total_desc.head(10))"
      ],
      "metadata": {
        "colab": {
          "base_uri": "https://localhost:8080/"
        },
        "id": "ReY67AscejXX",
        "outputId": "2061c580-4a46-4a0e-f1e0-9599e8f5000f"
      },
      "execution_count": null,
      "outputs": [
        {
          "output_type": "stream",
          "name": "stdout",
          "text": [
            "32     42500.0\n",
            "9      34000.0\n",
            "35     34000.0\n",
            "86     34000.0\n",
            "116    34000.0\n",
            "55     25500.0\n",
            "44     25500.0\n",
            "0      25500.0\n",
            "83     24000.0\n",
            "102    24000.0\n",
            "Name: total, dtype: float64\n"
          ]
        }
      ]
    },
    {
      "cell_type": "code",
      "source": [
        "#13 Group data by state and find the total revenue by state\n",
        "\n",
        "Revenue_by_state=store_sales.groupby('state')['total'].sum()\n",
        "print(Revenue_by_state)"
      ],
      "metadata": {
        "colab": {
          "base_uri": "https://localhost:8080/"
        },
        "id": "X0xeEBeugHsn",
        "outputId": "fb2e5aca-e966-4657-f738-36af36346732"
      },
      "execution_count": null,
      "outputs": [
        {
          "output_type": "stream",
          "name": "stdout",
          "text": [
            "state\n",
            "Abuja (FCT)     95850.0\n",
            "Anambra        113780.0\n",
            "Edo            148850.0\n",
            "Enugu          141615.0\n",
            "Kaduna          82750.0\n",
            "Kano           128925.0\n",
            "Lagos           89660.0\n",
            "Ogun            93405.0\n",
            "Oyo             76450.0\n",
            "Rivers          59745.0\n",
            "Name: total, dtype: float64\n"
          ]
        }
      ]
    },
    {
      "cell_type": "code",
      "source": [
        "#14 Group data by product and find the total revenue by product\n",
        "Total_by_product= store_sales.groupby('product')['total'].sum()\n",
        "Total_by_product.sort_values(ascending=False)"
      ],
      "metadata": {
        "colab": {
          "base_uri": "https://localhost:8080/",
          "height": 429
        },
        "id": "xScIvIzVgdV3",
        "outputId": "2af39ddf-0cda-463f-e86b-c4eeab3a2040"
      },
      "execution_count": null,
      "outputs": [
        {
          "output_type": "execute_result",
          "data": {
            "text/plain": [
              "product\n",
              "RICE 5KG              294950.0\n",
              "FLASH DRIVE 32GB      237900.0\n",
              "PHONE CHARGER         201600.0\n",
              "BEANS 2KG             117075.0\n",
              "BREAD LOAF             50600.0\n",
              "YAM TUBERS             33200.0\n",
              "MILK 1L                32220.0\n",
              "SOAP BAR               28945.0\n",
              "TOOTHPASTE             25600.0\n",
              "BOTTLED WATER 1.5L      8940.0\n",
              "Name: total, dtype: float64"
            ],
            "text/html": [
              "<div>\n",
              "<style scoped>\n",
              "    .dataframe tbody tr th:only-of-type {\n",
              "        vertical-align: middle;\n",
              "    }\n",
              "\n",
              "    .dataframe tbody tr th {\n",
              "        vertical-align: top;\n",
              "    }\n",
              "\n",
              "    .dataframe thead th {\n",
              "        text-align: right;\n",
              "    }\n",
              "</style>\n",
              "<table border=\"1\" class=\"dataframe\">\n",
              "  <thead>\n",
              "    <tr style=\"text-align: right;\">\n",
              "      <th></th>\n",
              "      <th>total</th>\n",
              "    </tr>\n",
              "    <tr>\n",
              "      <th>product</th>\n",
              "      <th></th>\n",
              "    </tr>\n",
              "  </thead>\n",
              "  <tbody>\n",
              "    <tr>\n",
              "      <th>RICE 5KG</th>\n",
              "      <td>294950.0</td>\n",
              "    </tr>\n",
              "    <tr>\n",
              "      <th>FLASH DRIVE 32GB</th>\n",
              "      <td>237900.0</td>\n",
              "    </tr>\n",
              "    <tr>\n",
              "      <th>PHONE CHARGER</th>\n",
              "      <td>201600.0</td>\n",
              "    </tr>\n",
              "    <tr>\n",
              "      <th>BEANS 2KG</th>\n",
              "      <td>117075.0</td>\n",
              "    </tr>\n",
              "    <tr>\n",
              "      <th>BREAD LOAF</th>\n",
              "      <td>50600.0</td>\n",
              "    </tr>\n",
              "    <tr>\n",
              "      <th>YAM TUBERS</th>\n",
              "      <td>33200.0</td>\n",
              "    </tr>\n",
              "    <tr>\n",
              "      <th>MILK 1L</th>\n",
              "      <td>32220.0</td>\n",
              "    </tr>\n",
              "    <tr>\n",
              "      <th>SOAP BAR</th>\n",
              "      <td>28945.0</td>\n",
              "    </tr>\n",
              "    <tr>\n",
              "      <th>TOOTHPASTE</th>\n",
              "      <td>25600.0</td>\n",
              "    </tr>\n",
              "    <tr>\n",
              "      <th>BOTTLED WATER 1.5L</th>\n",
              "      <td>8940.0</td>\n",
              "    </tr>\n",
              "  </tbody>\n",
              "</table>\n",
              "</div><br><label><b>dtype:</b> float64</label>"
            ]
          },
          "metadata": {},
          "execution_count": 23
        }
      ]
    },
    {
      "cell_type": "code",
      "source": [
        "#15 Top 3 customers by total spend\n",
        "\n",
        "Top_customers= store_sales.groupby('customer')['total'].sum()\n",
        "Top_3_customers=Top_customers.sort_values(ascending= False).head(3)\n",
        "print(Top_3_customers)"
      ],
      "metadata": {
        "colab": {
          "base_uri": "https://localhost:8080/"
        },
        "id": "wdGLlnWHjUkF",
        "outputId": "10443c37-fab3-4859-bd43-68e745fd284b"
      },
      "execution_count": null,
      "outputs": [
        {
          "output_type": "stream",
          "name": "stdout",
          "text": [
            "customer\n",
            "Emeka     163750.0\n",
            "Zainab    153850.0\n",
            "Aisha     122295.0\n",
            "Name: total, dtype: float64\n"
          ]
        }
      ]
    },
    {
      "cell_type": "code",
      "source": [
        "#Part 5- Missing values & Data types\n",
        "  #Fill any missing discount value with 0.0\n",
        "store_sales['discount']=store_sales['discount'].fillna(0.0)\n",
        "print(store_sales.head())"
      ],
      "metadata": {
        "colab": {
          "base_uri": "https://localhost:8080/"
        },
        "id": "eSQwJNPMj5jP",
        "outputId": "a725ae09-b76d-4cc5-8f52-8fba5d3e8af7"
      },
      "execution_count": null,
      "outputs": [
        {
          "output_type": "stream",
          "name": "stdout",
          "text": [
            "   order_id  order_date customer    state        product       category  \\\n",
            "0      1001  2024-01-01    Emeka     Kano       RICE 5KG      Groceries   \n",
            "1      1002  2024-01-03    Aisha      Edo  PHONE CHARGER    Electronics   \n",
            "2      1003  2024-01-05    Aisha     Ogun       SOAP BAR  Personal Care   \n",
            "3      1004  2024-01-06    Chidi     Kano     BREAD LOAF         Bakery   \n",
            "4      1005  2024-01-07     Sola  Anambra     BREAD LOAF         Bakery   \n",
            "\n",
            "   unit_price  quantity  discount payment_method  subtotal  discount_amount  \\\n",
            "0        8500         3       0.0           Cash     25500              0.0   \n",
            "1        3500         4       0.0       Transfer     14000              0.0   \n",
            "2         700         4       0.0           Cash      2800              0.0   \n",
            "3        1000         3       0.0       Transfer      3000              0.0   \n",
            "4        1000         5       0.0      Card(POS)      5000              0.0   \n",
            "\n",
            "     total  vat_7_5  grand_total       date    month  \n",
            "0  25500.0   1912.5      27412.5 2024-01-01  January  \n",
            "1  14000.0   1050.0      15050.0 2024-01-03  January  \n",
            "2   2800.0    210.0       3010.0 2024-01-05  January  \n",
            "3   3000.0    225.0       3225.0 2024-01-06  January  \n",
            "4   5000.0    375.0       5375.0 2024-01-07  January  \n"
          ]
        }
      ]
    },
    {
      "cell_type": "code",
      "source": [
        "#17 convert quantity column to integer type\n",
        "store_sales['quantity']= store_sales['quantity'].astype(int)"
      ],
      "metadata": {
        "id": "i60hg_6wlPz_"
      },
      "execution_count": null,
      "outputs": []
    },
    {
      "cell_type": "code",
      "source": [
        "#MERGING DATA\n",
        "#18 Create a new data frame with columns state and region\n",
        "\n",
        "# Full Nigeria State → Region mapping\n",
        "region_map = pd.DataFrame({\n",
        "    \"state\": [\n",
        "        # South West (SW)\n",
        "        \"Lagos\", \"Ogun\", \"Oyo\", \"Osun\", \"Ondo\", \"Ekiti\",\n",
        "        # South East (SE)\n",
        "        \"Abia\", \"Anambra\", \"Ebonyi\", \"Enugu\", \"Imo\",\n",
        "        # South South (SS)\n",
        "        \"Akwa Ibom\", \"Bayelsa\", \"Cross River\", \"Delta\", \"Edo\", \"Rivers\",\n",
        "        # North Central (NC)\n",
        "        \"Benue\", \"Kogi\", \"Kwara\", \"Nasarawa\", \"Niger\", \"Plateau\", \"FCT\",\n",
        "        # North East (NE)\n",
        "        \"Adamawa\", \"Bauchi\", \"Borno\", \"Gombe\", \"Taraba\", \"Yobe\",\n",
        "        # North West (NW)\n",
        "        \"Jigawa\", \"Kaduna\", \"Kano\", \"Katsina\", \"Kebbi\", \"Sokoto\", \"Zamfara\"\n",
        "    ],\n",
        "    \"region\": [\n",
        "        # South West\n",
        "        \"SW\", \"SW\", \"SW\", \"SW\", \"SW\", \"SW\",\n",
        "        # South East\n",
        "        \"SE\", \"SE\", \"SE\", \"SE\", \"SE\",\n",
        "        # South South\n",
        "        \"SS\", \"SS\", \"SS\", \"SS\", \"SS\", \"SS\",\n",
        "        # North Central\n",
        "        \"NC\", \"NC\", \"NC\", \"NC\", \"NC\", \"NC\", \"NC\",\n",
        "        # North East\n",
        "        \"NE\", \"NE\", \"NE\", \"NE\", \"NE\", \"NE\",\n",
        "        # North West\n",
        "        \"NW\", \"NW\", \"NW\", \"NW\", \"NW\", \"NW\", \"NW\"\n",
        "    ]\n",
        "})\n",
        "\n",
        "#19 Merge with the store_sales DataFrame\n",
        "Merged_region=pd.merge(store_sales, region_map, how= 'left')\n",
        "print(Merged_region)"
      ],
      "metadata": {
        "colab": {
          "base_uri": "https://localhost:8080/"
        },
        "id": "E2gsS5TgmEPb",
        "outputId": "6e36eed2-d0d3-4136-b579-a1e7a42e78f8"
      },
      "execution_count": null,
      "outputs": [
        {
          "output_type": "stream",
          "name": "stdout",
          "text": [
            "     order_id  order_date customer    state        product       category  \\\n",
            "0        1001  2024-01-01    Emeka     Kano       RICE 5KG      Groceries   \n",
            "1        1002  2024-01-03    Aisha      Edo  PHONE CHARGER    Electronics   \n",
            "2        1003  2024-01-05    Aisha     Ogun       SOAP BAR  Personal Care   \n",
            "3        1004  2024-01-06    Chidi     Kano     BREAD LOAF         Bakery   \n",
            "4        1005  2024-01-07     Sola  Anambra     BREAD LOAF         Bakery   \n",
            "..        ...         ...      ...      ...            ...            ...   \n",
            "115      1116  2024-07-10    Aisha  Anambra     TOOTHPASTE  Personal Care   \n",
            "116      1117  2024-07-13   Zainab     Ogun       RICE 5KG      Groceries   \n",
            "117      1118  2024-07-14    Tunde     Kano      BEANS 2KG      Groceries   \n",
            "118      1119  2024-07-16     Bola    Lagos     YAM TUBERS      Groceries   \n",
            "119      1120  2024-07-17   Zainab      Edo      BEANS 2KG      Groceries   \n",
            "\n",
            "     unit_price  quantity  discount payment_method  subtotal  discount_amount  \\\n",
            "0          8500         3      0.00           Cash     25500              0.0   \n",
            "1          3500         4      0.00       Transfer     14000              0.0   \n",
            "2           700         4      0.00           Cash      2800              0.0   \n",
            "3          1000         3      0.00       Transfer      3000              0.0   \n",
            "4          1000         5      0.00      Card(POS)      5000              0.0   \n",
            "..          ...       ...       ...            ...       ...              ...   \n",
            "115         800         4      0.05       Transfer      3200            160.0   \n",
            "116        8500         4      0.00      Card(POS)     34000              0.0   \n",
            "117        3500         3      0.05       Transfer     10500            525.0   \n",
            "118        2000         2      0.00      Card(POS)      4000              0.0   \n",
            "119        3500         4      0.00      Card(POS)     14000              0.0   \n",
            "\n",
            "       total   vat_7_5  grand_total       date    month region  \n",
            "0    25500.0  1912.500    27412.500 2024-01-01  January     NW  \n",
            "1    14000.0  1050.000    15050.000 2024-01-03  January     SS  \n",
            "2     2800.0   210.000     3010.000 2024-01-05  January     SW  \n",
            "3     3000.0   225.000     3225.000 2024-01-06  January     NW  \n",
            "4     5000.0   375.000     5375.000 2024-01-07  January     SE  \n",
            "..       ...       ...          ...        ...      ...    ...  \n",
            "115   3040.0   228.000     3268.000 2024-07-10     July     SE  \n",
            "116  34000.0  2550.000    36550.000 2024-07-13     July     SW  \n",
            "117   9975.0   748.125    10723.125 2024-07-14     July     NW  \n",
            "118   4000.0   300.000     4300.000 2024-07-16     July     SW  \n",
            "119  14000.0  1050.000    15050.000 2024-07-17     July     SS  \n",
            "\n",
            "[120 rows x 18 columns]\n"
          ]
        }
      ]
    },
    {
      "cell_type": "code",
      "source": [
        "\n",
        "#20 Overall Total revenue\n",
        "Total_revenue= store_sales['total'].sum()\n",
        "print(Total_revenue)"
      ],
      "metadata": {
        "colab": {
          "base_uri": "https://localhost:8080/"
        },
        "id": "26DDYpyJoVwb",
        "outputId": "86fb564c-091d-4f3d-d2e2-5d9207e6bb65"
      },
      "execution_count": null,
      "outputs": [
        {
          "output_type": "stream",
          "name": "stdout",
          "text": [
            "1031030.0\n"
          ]
        }
      ]
    },
    {
      "cell_type": "code",
      "source": [
        "  #Average Order Value\n",
        "    #Find number of orders\n",
        "Number= len(store_sales['total'])\n",
        "print(Number)"
      ],
      "metadata": {
        "colab": {
          "base_uri": "https://localhost:8080/"
        },
        "id": "O93SIoKEpBcv",
        "outputId": "53ee271f-9dd6-4a99-87e2-80d157e2adff"
      },
      "execution_count": null,
      "outputs": [
        {
          "output_type": "stream",
          "name": "stdout",
          "text": [
            "120\n"
          ]
        }
      ]
    },
    {
      "cell_type": "code",
      "source": [
        "\n",
        "#Divide Total revenue by number of orders\n",
        "AOV= Total_revenue/Number\n",
        "print(AOV)"
      ],
      "metadata": {
        "colab": {
          "base_uri": "https://localhost:8080/"
        },
        "id": "C31AyJq0qog1",
        "outputId": "624a310f-5583-47e7-bf31-b7cc6a797272"
      },
      "execution_count": null,
      "outputs": [
        {
          "output_type": "stream",
          "name": "stdout",
          "text": [
            "8591.916666666666\n"
          ]
        }
      ]
    },
    {
      "cell_type": "code",
      "source": [
        "#Number of Unique Customers\n",
        "\n",
        "Number_of_Unique_Customers= store_sales['customer'].nunique()\n",
        "print(Number_of_Unique_Customers)"
      ],
      "metadata": {
        "colab": {
          "base_uri": "https://localhost:8080/"
        },
        "id": "A4pl6Sb5q4VG",
        "outputId": "c42ca5b5-f2f6-4436-e01b-aab9b4923584"
      },
      "execution_count": null,
      "outputs": [
        {
          "output_type": "stream",
          "name": "stdout",
          "text": [
            "10\n"
          ]
        }
      ]
    },
    {
      "cell_type": "code",
      "source": [
        "#PART 8-VISUALIZATION\n",
        "#21 Bar chart showing total revenue by state\n",
        "    #import matplotlib for plotting\n",
        "import matplotlib.pyplot as plt\n",
        "\n",
        "#plot revenue_by_state on bar chart\n",
        "Revenue_by_state.plot(x='state', y='total', kind= 'bar')\n",
        "plt.title(Revenue_by_state)\n",
        "plt.xlabel('state')\n",
        "plt.ylabel('total')\n",
        "plt.xticks(rotation=45) #rotate X label if they overlab\n",
        "plt.show()"
      ],
      "metadata": {
        "colab": {
          "base_uri": "https://localhost:8080/",
          "height": 416
        },
        "id": "DAT_v6vBr6Od",
        "outputId": "83d8d3fa-eb9c-4eb5-b1da-dae5c5808e9b"
      },
      "execution_count": null,
      "outputs": [
        {
          "output_type": "display_data",
          "data": {
            "text/plain": [
              "<Figure size 640x480 with 1 Axes>"
            ],
            "image/png": "[encoded data removed]"
          },
          "metadata": {}
        }
      ]
    },
    {
      "cell_type": "code",
      "source": [
        "#22 Line chart showing total revenue by month\n",
        "#First group total revenue by month\n",
        "Revenue_by_month= store_sales.groupby('month')['total'].sum()\n",
        "print(Revenue_by_month)"
      ],
      "metadata": {
        "colab": {
          "base_uri": "https://localhost:8080/"
        },
        "id": "liEl33a4wFW7",
        "outputId": "3d75d45a-3c0e-4e75-9d69-299b6722cf3f"
      },
      "execution_count": null,
      "outputs": [
        {
          "output_type": "stream",
          "name": "stdout",
          "text": [
            "month\n",
            "April       118895.0\n",
            "February    105550.0\n",
            "January     178860.0\n",
            "July         95395.0\n",
            "June        150890.0\n",
            "March       187610.0\n",
            "May         193830.0\n",
            "Name: total, dtype: float64\n"
          ]
        }
      ]
    },
    {
      "cell_type": "code",
      "source": [
        "\n",
        "#22 Line chart showing Monthly Total Revenue\n",
        "   #Get month number\n",
        "store_sales[\"month_num\"] = store_sales[\"date\"].dt.month  # numeric month\n",
        "\n",
        "    # Group total sales by month number and month\n",
        "monthly_sales = store_sales.groupby([\"month_num\", \"month\"])[\"total\"].sum().reset_index()\n",
        "\n",
        "   # Plot on line chart\n",
        "monthly_sales.plot(x=\"month\", y=\"total\", kind=\"line\", marker=\"o\")\n",
        "\n",
        "plt.title(\"Monthly Sales Trend\")\n",
        "plt.xlabel(\"Month\")\n",
        "plt.ylabel(\"Total Sales\")\n",
        "plt.show()"
      ],
      "metadata": {
        "colab": {
          "base_uri": "https://localhost:8080/",
          "height": 263
        },
        "id": "bF-5G_njx2UX",
        "outputId": "e85da6dc-3f30-4e0a-f1b5-c14033aeea6a"
      },
      "execution_count": null,
      "outputs": [
        {
          "output_type": "display_data",
          "data": {
            "text/plain": [
              "<Figure size 640x480 with 1 Axes>"
            ],
            "image/png": "[encoded data removed]"
          },
          "metadata": {}
        }
      ]
    },
    {
      "cell_type": "code",
      "source": [
        "#23 Histogram showing distribution of order totals\n",
        "\n",
        "store_sales['total'].plot(kind='hist', bins=10, edgecolor='black')\n",
        "plt.title('Distribution of Order Totals')\n",
        "plt.xlabel('Total')\n",
        "plt.ylabel('Frequency')\n",
        "plt.show()"
      ],
      "metadata": {
        "colab": {
          "base_uri": "https://localhost:8080/",
          "height": 279
        },
        "id": "IgMIqu_N5c_C",
        "outputId": "ee141bad-f913-4154-d58a-ec4d6be6f508"
      },
      "execution_count": null,
      "outputs": [
        {
          "output_type": "display_data",
          "data": {
            "text/plain": [
              "<Figure size 640x480 with 1 Axes>"
            ],
            "image/png": "[encoded data removed]"
          },
          "metadata": {}
        }
      ]
    }
  ],
  "metadata": {
    "colab": {
      "provenance": [],
      "authorship_tag": "ABX9TyNSZ3wR1DE8kzgk/LlwHh8s",
      "include_colab_link": true
    },
    "kernelspec": {
      "display_name": "Python 3",
      "name": "python3"
    },
    "language_info": {
      "name": "python"
    }
  },
  "nbformat": 4,
  "nbformat_minor": 0
}